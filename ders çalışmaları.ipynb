{
 "cells": [
  {
   "cell_type": "code",
   "execution_count": 1,
   "metadata": {},
   "outputs": [],
   "source": [
    "isim = \"özge\""
   ]
  },
  {
   "cell_type": "code",
   "execution_count": 3,
   "metadata": {},
   "outputs": [],
   "source": [
    "def ogrenci_gecti_mi (vize , final):\n",
    "    ortalama = vize * 0.4 + final * 0.6\n",
    "    if ortalama >= 50 :\n",
    "        return True\n",
    "    else :\n",
    "        return False"
   ]
  },
  {
   "cell_type": "code",
   "execution_count": 4,
   "metadata": {},
   "outputs": [
    {
     "name": "stdout",
     "output_type": "stream",
     "text": [
      "özgeFalse\n"
     ]
    }
   ],
   "source": [
    "ozge_vize = 60\n",
    "ozge_final = 40\n",
    "\n",
    "print(isim + \"\" + str (ogrenci_gecti_mi(ozge_vize, ozge_final)))\n"
   ]
  },
  {
   "cell_type": "code",
   "execution_count": 5,
   "metadata": {},
   "outputs": [],
   "source": [
    "def yolculuk_suresi_hesapla (km, hiz):\n",
    "    trafik_yogunluk_katsayisi = 0.857\n",
    "    return km / hiz * trafik_yogunluk_katsayisi"
   ]
  },
  {
   "cell_type": "code",
   "execution_count": 6,
   "metadata": {},
   "outputs": [
    {
     "name": "stdout",
     "output_type": "stream",
     "text": [
      "5.1419999999999995\n"
     ]
    }
   ],
   "source": [
    "ankara_istanbul = 600\n",
    "ortalama_hiz = 100\n",
    "print (yolculuk_suresi_hesapla(ankara_istanbul, ortalama_hiz))"
   ]
  },
  {
   "cell_type": "code",
   "execution_count": 8,
   "metadata": {},
   "outputs": [
    {
     "name": "stdout",
     "output_type": "stream",
     "text": [
      "merhaba dünya\n"
     ]
    }
   ],
   "source": [
    "def kucuk_harf_cevir(kelime):\n",
    "    return kelime.lower()\n",
    "kelime = \"Merhaba Dünya\"\n",
    "print(kucuk_harf_cevir(kelime))"
   ]
  }
 ],
 "metadata": {
  "kernelspec": {
   "display_name": "Python 3",
   "language": "python",
   "name": "python3"
  },
  "language_info": {
   "codemirror_mode": {
    "name": "ipython",
    "version": 3
   },
   "file_extension": ".py",
   "mimetype": "text/x-python",
   "name": "python",
   "nbconvert_exporter": "python",
   "pygments_lexer": "ipython3",
   "version": "3.13.0"
  }
 },
 "nbformat": 4,
 "nbformat_minor": 2
}
